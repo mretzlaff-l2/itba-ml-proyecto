{
 "cells": [
  {
   "cell_type": "markdown",
   "metadata": {},
   "source": [
    "# Welcome to Jupyter!"
   ]
  },
  {
   "cell_type": "markdown",
   "metadata": {},
   "source": [
    "This repo contains an introduction to [Jupyter](https://jupyter.org) and [IPython](https://ipython.org).\n",
    "\n",
    "Outline of some basics:\n",
    "\n",
    "* [Notebook Basics](../examples/Notebook/Notebook Basics.ipynb)\n",
    "* [IPython - beyond plain python](../examples/IPython Kernel/Beyond Plain Python.ipynb)\n",
    "* [Markdown Cells](../examples/Notebook/Working With Markdown Cells.ipynb)\n",
    "* [Rich Display System](../examples/IPython Kernel/Rich Output.ipynb)\n",
    "* [Custom Display logic](../examples/IPython%20Kernel/Custom%20Display%20Logic.ipynb)\n",
    "* [Running a Secure Public Notebook Server](../examples/Notebook/Running%20the%20Notebook%20Server.ipynb#Securing-the-notebook-server)\n",
    "* [How Jupyter works](../examples/Notebook/Multiple%20Languages%2C%20Frontends.ipynb) to run code in different languages."
   ]
  },
  {
   "cell_type": "markdown",
   "metadata": {},
   "source": [
    "You can also get this tutorial and run it on your laptop:\n",
    "\n",
    "    git clone https://github.com/ipython/ipython-in-depth\n",
    "\n",
    "Install IPython and Jupyter:\n",
    "\n",
    "with [conda](https://www.anaconda.com/download):\n",
    "\n",
    "    conda install ipython jupyter\n",
    "\n",
    "with pip:\n",
    "\n",
    "    # first, always upgrade pip!\n",
    "    pip install --upgrade pip\n",
    "    pip install --upgrade ipython jupyter\n",
    "\n",
    "Start the notebook in the tutorial directory:\n",
    "\n",
    "    cd ipython-in-depth\n",
    "    jupyter notebook"
   ]
  },
  {
   "cell_type": "code",
   "execution_count": 57,
   "metadata": {},
   "outputs": [
    {
     "name": "stdout",
     "output_type": "stream",
     "text": [
      "La probablidad de que sea SPAM es: 0.33\n",
      "La probablidad de que sea HAM es: 0.67\n",
      "La probabilidad de alargue siendo la categoria SPAM es: 2.33\n",
      "La probabilidad de alargue siendo la categoria HAM es: 3.33\n",
      "La probabilidad de automóvil siendo la categoria SPAM es: 1.67\n",
      "La probabilidad de automóvil siendo la categoria HAM es: 10.0\n",
      "La probabilidad de casa siendo la categoria SPAM es: 0.67\n",
      "La probabilidad de casa siendo la categoria HAM es: 12.67\n",
      "La probabilidad de novedoso siendo la categoria SPAM es: 3.67\n",
      "La probabilidad de novedoso siendo la categoria HAM es: 3.33\n"
     ]
    }
   ],
   "source": [
    "import numpy as np\n",
    "\n",
    "titulos = (['alargue', 'automóvil', 'casa', 'novedoso'])\n",
    "\n",
    "x = ([[3, 3, 1, 6, 'SPAM'],\n",
    "\t\t[1,\t4,\t7,\t1,\t'HAM'],\n",
    "\t\t[1,\t4,\t3,\t1,\t'HAM'],\n",
    "\t\t[4,\t2,\t1,\t5,\t'SPAM'],\n",
    "\t\t[1,\t3,\t4,\t2,\t'HAM'],\n",
    "\t\t[2,\t4,\t5,\t1,\t'HAM']])\n",
    "tabla = np.asarray(x)\n",
    "\n",
    "conjunta_SPAM = ([0,\t0,\t0,\t0,\t'SPAM'])\n",
    "conjunta_HAM = ([0,\t0,\t0,\t0,\t'HAM'])\n",
    "\n",
    "contador = 0\n",
    "cantidad_SPAM = 0\n",
    "cantidad_HAM = 0\n",
    "for fila in tabla:\n",
    "    contador += 1\n",
    "    if fila[4] == 'SPAM':\n",
    "        cantidad_SPAM += 1\n",
    "        conjunta_SPAM[0] = conjunta_SPAM[0] + float(fila[0])\n",
    "        conjunta_SPAM[1] = conjunta_SPAM[1] + float(fila[1])\n",
    "        conjunta_SPAM[2] = conjunta_SPAM[2] + float(fila[2])\n",
    "        conjunta_SPAM[3] = conjunta_SPAM[3] + float(fila[3])\n",
    "    else:\n",
    "        cantidad_HAM += 1\n",
    "        conjunta_HAM[0] = conjunta_HAM[0] + float(fila[0])\n",
    "        conjunta_HAM[1] = conjunta_HAM[1] + float(fila[1])\n",
    "        conjunta_HAM[2] = conjunta_HAM[2] + float(fila[2])\n",
    "        conjunta_HAM[3] = conjunta_HAM[3] + float(fila[3])\n",
    "\n",
    "p_SPAM = cantidad_SPAM/contador\n",
    "p_HAM = cantidad_HAM/contador\n",
    "print(\"La probablidad de que sea SPAM es: \" + str(round(p_SPAM, 2)))\n",
    "print(\"La probablidad de que sea HAM es: \" + str(round(p_HAM, 2)))\n",
    "\n",
    "#P(Alargue/SPAM) = P(Alargue,SPAM) * P(SPAM)\n",
    "condicional_SPAM = []\n",
    "condicional_HAM = []\n",
    "i = 0\n",
    "for palabra in titulos:\n",
    "    condicional_SPAM.append(conjunta_SPAM[i] * p_SPAM)\n",
    "    condicional_HAM.append(conjunta_HAM[i] * p_HAM)\n",
    "    print(\"La probabilidad de \" + palabra + \" siendo la categoria SPAM es: \" + str(round(condicional_SPAM[i], 2)))\n",
    "    print(\"La probabilidad de \" + palabra + \" siendo la categoria HAM es: \" + str(round(condicional_HAM[i], 2)))\n",
    "    i += 1"
   ]
  }
 ],
 "metadata": {
  "kernelspec": {
   "display_name": "Python 3",
   "language": "python",
   "name": "python3"
  },
  "language_info": {
   "codemirror_mode": {
    "name": "ipython",
    "version": 3
   },
   "file_extension": ".py",
   "mimetype": "text/x-python",
   "name": "python",
   "nbconvert_exporter": "python",
   "pygments_lexer": "ipython3",
   "version": "3.6.4"
  }
 },
 "nbformat": 4,
 "nbformat_minor": 2
}
