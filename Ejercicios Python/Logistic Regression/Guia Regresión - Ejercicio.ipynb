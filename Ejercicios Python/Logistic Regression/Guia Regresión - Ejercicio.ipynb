{
 "cells": [
  {
   "cell_type": "markdown",
   "metadata": {},
   "source": [
    "# Guia regresión \n",
    "## Consigna\n",
    "Para el dataset a continuación, calcular la regresión polinómica e ir variando el orden hasta obtener el resultado óptimo de AIC y BIC. También calcular $ R^2 $ y los p values."
   ]
  },
  {
   "cell_type": "code",
   "execution_count": 27,
   "metadata": {
    "collapsed": false
   },
   "outputs": [],
   "source": [
    "import numpy as np\n",
    "import pandas as pd\n",
    "import matplotlib.pyplot as plt\n",
    "import statsmodels.api as sm\n",
    "from sklearn.model_selection import train_test_split\n",
    "\n",
    "x = np.load('X.npy')\n",
    "y = np.load('y.npy')\n",
    "plt.figure()\n",
    "plt.plot(x, y, '.',  color='blue')\n",
    "plt.title('Dataset')\n",
    "plt.show()"
   ]
  },
  {
   "cell_type": "markdown",
   "metadata": {},
   "source": [
    "## Solución"
   ]
  },
  {
   "cell_type": "code",
   "execution_count": 37,
   "metadata": {
    "collapsed": false
   },
   "outputs": [
    {
     "name": "stdout",
     "output_type": "stream",
     "text": [
      "=== pvalues ===\n",
      "1    8.047968e-54\n",
      "dtype: float64\n",
      "AIC => 6367.4095625405835\n",
      "BIC => 6371.328456394856\n",
      "======================================================================\n",
      "=== pvalues ===\n",
      "1    1.034893e-104\n",
      "2     7.835370e-87\n",
      "dtype: float64\n",
      "AIC => 5976.707388279496\n",
      "BIC => 5984.545175988042\n",
      "======================================================================\n",
      "=== pvalues ===\n",
      "1     3.776464e-01\n",
      "2    3.382306e-130\n",
      "3     6.959500e-63\n",
      "dtype: float64\n",
      "AIC => 5695.91945069306\n",
      "BIC => 5707.67613225588\n",
      "======================================================================\n",
      "=== pvalues ===\n",
      "1    3.466934e-01\n",
      "2    3.731628e-17\n",
      "3    2.438637e-63\n",
      "4    4.949046e-02\n",
      "dtype: float64\n",
      "AIC => 5694.013571301002\n",
      "BIC => 5709.689146718095\n",
      "======================================================================\n",
      "=== pvalues ===\n",
      "1    6.084146e-01\n",
      "2    4.113656e-17\n",
      "3    1.150177e-05\n",
      "4    4.980235e-02\n",
      "5    9.792214e-01\n",
      "dtype: float64\n",
      "AIC => 5696.012882777126\n",
      "BIC => 5715.6073520484915\n",
      "======================================================================\n",
      "=== pvalues ===\n",
      "1    0.610004\n",
      "2    0.000091\n",
      "3    0.000012\n",
      "4    0.778649\n",
      "5    0.978591\n",
      "6    0.944597\n",
      "dtype: float64\n",
      "AIC => 5698.007967659226\n",
      "BIC => 5721.521330784864\n",
      "======================================================================\n"
     ]
    }
   ],
   "source": [
    "def show_data(x, y, df, grado):\n",
    "    model = sm.OLS(y, df).fit()\n",
    "    plot(x, y, model.predict(), 'Grado ' + grado)\n",
    "    print(\"=== pvalues ===\")\n",
    "    print(model.pvalues)\n",
    "    print(\"AIC =>\", model.aic)\n",
    "    print(\"BIC =>\", model.bic)\n",
    "    print(\"======================================================================\")\n",
    "\n",
    "def plot(x, first_y, second_y, title='', first_color='blue', second_color='red'):\n",
    "    plt.figure()\n",
    "    plt.plot(x, first_y, '.',  color=first_color)\n",
    "    plt.plot(x, second_y, c=second_color, linewidth=2)\n",
    "    plt.title(title)\n",
    "    plt.show()\n",
    "    \n",
    "def trim_train_test(df, percent=0.7):\n",
    "    msk = np.random.rand(len(df)) < percent\n",
    "    return df[msk], df[~msk]\n",
    "\n",
    "N = 6\n",
    "train, test = trim_train_test(pd.DataFrame({0: x, 1: y}), 0.70)\n",
    "train_potencies = pd.DataFrame()\n",
    "test_potencies = pd.DataFrame()\n",
    "for i in range(1, N + 1):\n",
    "    train_potencies[i] = pow(train[0], i)\n",
    "    test_potencies[i] = pow(test[0], i)\n",
    "    show_data(train[0], train[1], train_potencies, str(i))"
   ]
  }
 ],
 "metadata": {
  "kernelspec": {
   "display_name": "Python 3",
   "language": "python",
   "name": "python3"
  },
  "language_info": {
   "codemirror_mode": {
    "name": "ipython",
    "version": 3
   },
   "file_extension": ".py",
   "mimetype": "text/x-python",
   "name": "python",
   "nbconvert_exporter": "python",
   "pygments_lexer": "ipython3",
   "version": "3.5.4"
  }
 },
 "nbformat": 4,
 "nbformat_minor": 2
}
