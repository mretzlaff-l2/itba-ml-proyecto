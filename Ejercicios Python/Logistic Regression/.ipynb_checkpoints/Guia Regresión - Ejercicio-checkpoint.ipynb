{
 "cells": [
  {
   "cell_type": "markdown",
   "metadata": {},
   "source": [
    "# Guia regresión \n",
    "## Consigna\n",
    "Para el dataset a continuación, calcular la regresión polinómica e ir variando el orden hasta obtener el resultado óptimo de AIC y BIC. También calcular $ R^2 $ y los p values."
   ]
  },
  {
   "cell_type": "code",
   "execution_count": 1,
   "metadata": {
    "collapsed": false
   },
   "outputs": [
    {
     "name": "stderr",
     "output_type": "stream",
     "text": [
      "C:\\Users\\MRetzlaf\\AppData\\Local\\Continuum\\Anaconda3\\lib\\site-packages\\statsmodels\\compat\\pandas.py:56: FutureWarning: The pandas.core.datetools module is deprecated and will be removed in a future version. Please use the pandas.tseries module instead.\n",
      "  from pandas.core import datetools\n"
     ]
    }
   ],
   "source": [
    "import numpy as np\n",
    "import matplotlib.pyplot as plt\n",
    "import statsmodels.api as sm\n",
    "\n",
    "x = np.load('X.npy')\n",
    "y = np.load('y.npy')\n",
    "plt.figure()\n",
    "plt.plot(x, y, '.',  color='blue')\n",
    "plt.title('Dataset')\n",
    "plt.show()"
   ]
  },
  {
   "cell_type": "markdown",
   "metadata": {},
   "source": [
    "## Solución"
   ]
  },
  {
   "cell_type": "code",
   "execution_count": null,
   "metadata": {
    "collapsed": true
   },
   "outputs": [],
   "source": []
  },
  {
   "cell_type": "code",
   "execution_count": null,
   "metadata": {
    "collapsed": true
   },
   "outputs": [],
   "source": [
    "def show_data(x, y, df, grado):\n",
    "    model = sm.OLS(y, df).fit()\n",
    "    plot(x, y, model.predict(), 'Grado ' + grado)\n",
    "    print(\"=== pvalues ===\")\n",
    "    print(model.pvalues)\n",
    "    print(\"AIC =>\", model.aic)\n",
    "    print(\"BIC =>\", model.bic)\n",
    "    print(\"======================================================================\")\n",
    "\n",
    "def plot(x, first_y, second_y, title='', first_color='blue', second_color='red'):\n",
    "    plt.figure()\n",
    "    plt.plot(x, first_y, '.',  color=first_color)\n",
    "    plt.plot(x, second_y, c=second_color, linewidth=2)\n",
    "    plt.title(title)\n",
    "    plt.show()\n",
    "    \n",
    "def trim_train_test(df, percent=0.7):\n",
    "    msk = np.random.rand(len(df)) < percent\n",
    "    return df[msk], df[~msk]\n"
   ]
  }
 ],
 "metadata": {
  "kernelspec": {
   "display_name": "Python 3",
   "language": "python",
   "name": "python3"
  },
  "language_info": {
   "codemirror_mode": {
    "name": "ipython",
    "version": 3
   },
   "file_extension": ".py",
   "mimetype": "text/x-python",
   "name": "python",
   "nbconvert_exporter": "python",
   "pygments_lexer": "ipython3",
   "version": "3.5.4"
  }
 },
 "nbformat": 4,
 "nbformat_minor": 2
}
