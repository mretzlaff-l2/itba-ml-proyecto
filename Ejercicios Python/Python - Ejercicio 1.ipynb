{
 "cells": [
  {
   "cell_type": "code",
   "execution_count": 8,
   "metadata": {
    "collapsed": false
   },
   "outputs": [
    {
     "name": "stdout",
     "output_type": "stream",
     "text": [
      "Ingresa tu nombre: Matias\n",
      "Ingresa tu edad: 30\n",
      "Matias, cumplirás 100 años en el año 2088\n"
     ]
    }
   ],
   "source": [
    "import datetime\n",
    "\n",
    "name = input(\"Ingresa tu nombre: \")\n",
    "age = int(input(\"Ingresa tu edad: \"))\n",
    "\n",
    "#Obtengo el dia de hoy\n",
    "actual_date = datetime.datetime.now()\n",
    "\n",
    "anio100 = int(actual_date.strftime(\"%Y\")) + (100 - age)\n",
    "\n",
    "print(name + \", cumplirás 100 años en el año \" + str(anio100))"
   ]
  }
 ],
 "metadata": {
  "kernelspec": {
   "display_name": "Python 3",
   "language": "python",
   "name": "python3"
  },
  "language_info": {
   "codemirror_mode": {
    "name": "ipython",
    "version": 3
   },
   "file_extension": ".py",
   "mimetype": "text/x-python",
   "name": "python",
   "nbconvert_exporter": "python",
   "pygments_lexer": "ipython3",
   "version": "3.5.1"
  }
 },
 "nbformat": 4,
 "nbformat_minor": 0
}
